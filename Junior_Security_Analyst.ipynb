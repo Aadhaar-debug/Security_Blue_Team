{
 "cells": [
  {
   "cell_type": "code",
   "execution_count": 1,
   "id": "21377d55-6ad4-4e1c-81f8-c7c974d9aeac",
   "metadata": {},
   "outputs": [
    {
     "data": {
      "text/plain": [
       "\"\\nIn the Junior Security Analyst role, you will be a Triage Specialist. You will spend a lot of time triaging or monitoring the event logs and alerts.\\n\\nThe responsibilities for a Junior Security Analyst or Tier 1 SOC Analyst include:\\n\\nMonitor and investigate the alerts (most of the time, it's a 24x7 SOC operations environment)\\nConfigure and manage the security tools\\nDevelop and implement basic IDS (Intrusion Detection System) signatures\\nParticipate in SOC working groups, meetings\\nCreate tickets and escalate the security incidents to the Tier 2 and Team Lead if needed\\nRequired qualifications (most common):\\n\\n0-2 years of experience with Security Operations\\nBasic understanding of Networking ( OSI model (Open Systems Interconnection Model) or  TCP/IP model (Transmission Control Protocol/Internet Protocol Model)), Operating Systems (Windows, Linux), Web applications. To further learn about OSI and TCP/IP models, please refer to the Introductory Networking Room.\\nScripting/programming skills are a plus\\nDesired certification:\\n\\nCompTIA Security+ \\nAs you progress and advance your skills as a Junior Security Analyst, you will eventually move up to Tier 2 and Tier 3.\\n\\nAn overview of the Security Operations Center (SOC) Three-Tier Model:\\n\""
      ]
     },
     "execution_count": 1,
     "metadata": {},
     "output_type": "execute_result"
    }
   ],
   "source": [
    "'''\n",
    "In the Junior Security Analyst role, you will be a Triage Specialist. You will spend a lot of time triaging or monitoring the event logs and alerts.\n",
    "\n",
    "The responsibilities for a Junior Security Analyst or Tier 1 SOC Analyst include:\n",
    "\n",
    "Monitor and investigate the alerts (most of the time, it's a 24x7 SOC operations environment)\n",
    "Configure and manage the security tools\n",
    "Develop and implement basic IDS (Intrusion Detection System) signatures\n",
    "Participate in SOC working groups, meetings\n",
    "Create tickets and escalate the security incidents to the Tier 2 and Team Lead if needed\n",
    "Required qualifications (most common):\n",
    "\n",
    "0-2 years of experience with Security Operations\n",
    "Basic understanding of Networking ( OSI model (Open Systems Interconnection Model) or  TCP/IP model (Transmission Control Protocol/Internet Protocol Model)), Operating Systems (Windows, Linux), Web applications. To further learn about OSI and TCP/IP models, please refer to the Introductory Networking Room.\n",
    "Scripting/programming skills are a plus\n",
    "Desired certification:\n",
    "\n",
    "CompTIA Security+ \n",
    "As you progress and advance your skills as a Junior Security Analyst, you will eventually move up to Tier 2 and Tier 3.\n",
    "\n",
    "An overview of the Security Operations Center (SOC) Three-Tier Model:\n",
    "'''"
   ]
  },
  {
   "cell_type": "code",
   "execution_count": 3,
   "id": "3f803a51-923b-4184-b52b-e909755d18f3",
   "metadata": {},
   "outputs": [
    {
     "data": {
      "text/plain": [
       "'\\nThe core function of a SOC (Security Operations Center) is to investigate, monitor, prevent, and respond to threats in the cyber realm 24/7 \\nor around the clock. Per McAfee\\'s definition of a SOC,  \"Security operations teams are charged with monitoring and protecting many assets,\\nsuch as intellectual property, personnel data, business systems, and brand integrity. As the implementation component of an organisation\\'s\\noverall cyber security framework, security operations teams act as the central point of collaboration in coordinated efforts to monitor,\\nassess, and defend against cyberattacks\". The number of people working in the SOC can vary depending on the organisation\\'s size. \\n'"
      ]
     },
     "execution_count": 3,
     "metadata": {},
     "output_type": "execute_result"
    }
   ],
   "source": [
    "'''\n",
    "The core function of a SOC (Security Operations Center) is to investigate, monitor, prevent, and respond to threats in the cyber realm 24/7 \n",
    "or around the clock. Per McAfee's definition of a SOC,  \"Security operations teams are charged with monitoring and protecting many assets,\n",
    "such as intellectual property, personnel data, business systems, and brand integrity. As the implementation component of an organisation's\n",
    "overall cyber security framework, security operations teams act as the central point of collaboration in coordinated efforts to monitor,\n",
    "assess, and defend against cyberattacks\". The number of people working in the SOC can vary depending on the organisation's size. \n",
    "'''"
   ]
  },
  {
   "cell_type": "code",
   "execution_count": 5,
   "id": "c988e90a-df91-411e-8bb5-7c6d06c27785",
   "metadata": {},
   "outputs": [
    {
     "data": {
      "text/plain": [
       "'\\n\\nPreparation and Prevention\\n\\nAs a Junior Security Analyst, you should stay informed of the current cyber security threats (Twitter and Feedly can be great resources to keep \\nup with the news related to Cybersecurity). It\\'s crucial to detect and hunt threats, work on a security roadmap to protect the organisation, and\\nbe ready for the worst-case scenario.\\n\\nPrevention methods include gathering intelligence data on the latest threats, threat actors, and their TTPs (Tactics, Techniques, and Procedures).\\nIt also includes the maintenance procedures like updating the firewall signatures, patching the vulnerabilities in the existing systems, \\nblock-listing and safe-listing applications, email addresses, and IPs. \\n\\nTo better understand the TTPs, you should look into one of the CISA\\'s (Cybersecurity & Infrastructure Security Agency) alerts on APT40\\n(Chinese Advanced Persistent Threat). Refer to the following link for more information, https://us-cert.cisa.gov/ncas/alerts/aa21-200a. \\n\\n\\nMonitoring and Investigation \\n\\nA SOC team proactively uses SIEM (Security information and event management) and EDR (Endpoint Detection and Response) tools to monitor \\nsuspicious and malicious network activities. Imagine being a firefighter and having a multi-alarm fire - one-alarm fires, two-alarm fires,\\nthree-alarm fires; the categories classify the seriousness of the fire, which is a threat in our case. As a Security Analyst, you will\\nlearn how to prioritise the alerts based on their level: Low, Medium, High, and Critical. Of course, it is an easy guess that you will \\nneed to start from the highest level (Critical) and work towards the bottom - Low-level alert. Having properly configured security \\nmonitoring tools in place will give you the best chance to mitigate the threat. \\n\\nJunior Security Analysts play a crucial role in the investigation procedure. They perform triaging on the ongoing alerts by exploring\\nand understanding how a certain attack works and preventing bad things from happening if they can. During the investigation, it\\'s important \\nto raise the question \"How? When, and why?\". Security Analysts find the answers by drilling down on the data logs and alerts in \\ncombination with using open-source tools, which we will have a chance to explore later in this path. \\n\\nResponse \\n\\nAfter the investigation, the SOC team coordinates and takes action on the compromised hosts, which involves isolating the hosts from \\nthe network, terminating the malicious processes, deleting files, and more. \\n'"
      ]
     },
     "execution_count": 5,
     "metadata": {},
     "output_type": "execute_result"
    }
   ],
   "source": [
    "'''\n",
    "\n",
    "Preparation and Prevention\n",
    "\n",
    "As a Junior Security Analyst, you should stay informed of the current cyber security threats (Twitter and Feedly can be great resources to keep \n",
    "up with the news related to Cybersecurity). It's crucial to detect and hunt threats, work on a security roadmap to protect the organisation, and\n",
    "be ready for the worst-case scenario.\n",
    "\n",
    "Prevention methods include gathering intelligence data on the latest threats, threat actors, and their TTPs (Tactics, Techniques, and Procedures).\n",
    "It also includes the maintenance procedures like updating the firewall signatures, patching the vulnerabilities in the existing systems, \n",
    "block-listing and safe-listing applications, email addresses, and IPs. \n",
    "\n",
    "To better understand the TTPs, you should look into one of the CISA's (Cybersecurity & Infrastructure Security Agency) alerts on APT40\n",
    "(Chinese Advanced Persistent Threat). Refer to the following link for more information, https://us-cert.cisa.gov/ncas/alerts/aa21-200a. \n",
    "\n",
    "\n",
    "Monitoring and Investigation \n",
    "\n",
    "A SOC team proactively uses SIEM (Security information and event management) and EDR (Endpoint Detection and Response) tools to monitor \n",
    "suspicious and malicious network activities. Imagine being a firefighter and having a multi-alarm fire - one-alarm fires, two-alarm fires,\n",
    "three-alarm fires; the categories classify the seriousness of the fire, which is a threat in our case. As a Security Analyst, you will\n",
    "learn how to prioritise the alerts based on their level: Low, Medium, High, and Critical. Of course, it is an easy guess that you will \n",
    "need to start from the highest level (Critical) and work towards the bottom - Low-level alert. Having properly configured security \n",
    "monitoring tools in place will give you the best chance to mitigate the threat. \n",
    "\n",
    "Junior Security Analysts play a crucial role in the investigation procedure. They perform triaging on the ongoing alerts by exploring\n",
    "and understanding how a certain attack works and preventing bad things from happening if they can. During the investigation, it's important \n",
    "to raise the question \"How? When, and why?\". Security Analysts find the answers by drilling down on the data logs and alerts in \n",
    "combination with using open-source tools, which we will have a chance to explore later in this path. \n",
    "\n",
    "Response \n",
    "\n",
    "After the investigation, the SOC team coordinates and takes action on the compromised hosts, which involves isolating the hosts from \n",
    "the network, terminating the malicious processes, deleting files, and more. \n",
    "'''"
   ]
  },
  {
   "cell_type": "code",
   "execution_count": 6,
   "id": "b15d3cab-a8ad-4849-a427-d85b006163b4",
   "metadata": {},
   "outputs": [
    {
     "data": {
      "text/plain": [
       "'\\nTo understand the job responsibilities for a Junior (Associate) Security Analyst, let us first show you what a day in the life of the Junior\\nSecurity Analyst looks like and why this is an exciting career journey.\\n\\nTo be in the frontline is not always easy and can be very challenging as you will be working with various log sources from different tools that\\nwe will walk you through in this path. You will get a chance to monitor the network traffic, including IPS (Intrusion Prevention System) and IDS \\n(Intrusion Detection System) alerts, suspicious emails, extract the forensics data to analyze and detect the potential attacks, use open-source \\nintelligence to help you make the appropriate decisions on the alerts.\\n\\nOne of the most exciting and rewarding things is when you are finished working on an incident and have managed to remediate the threat.\\nIncident Response might take hours, days, or weeks; it all depends on the scale of the attack: did the attacker manage to exfiltrate the \\ndata? How much data does the attacker manage to exfiltrate? Did the attacker attempt to pivot into other hosts? There are many questions \\nto ask and a lot of detection, containment, and remediation to do. We will walk you through some fundamental knowledge that every Junior \\n(Associate) Security Analyst needs to know to become a successful Network Defender. \\n\\nThe first thing almost every Junior (Associate) Security Analyst does on their shift is to look at the tickets to see if any alerts got generated.\\n\\nAre you ready to immerse yourself into the role of a Junior Security Analyst for a little bit? \\n'"
      ]
     },
     "execution_count": 6,
     "metadata": {},
     "output_type": "execute_result"
    }
   ],
   "source": [
    "'''\n",
    "To understand the job responsibilities for a Junior (Associate) Security Analyst, let us first show you what a day in the life of the Junior\n",
    "Security Analyst looks like and why this is an exciting career journey.\n",
    "\n",
    "To be in the frontline is not always easy and can be very challenging as you will be working with various log sources from different tools that\n",
    "we will walk you through in this path. You will get a chance to monitor the network traffic, including IPS (Intrusion Prevention System) and IDS \n",
    "(Intrusion Detection System) alerts, suspicious emails, extract the forensics data to analyze and detect the potential attacks, use open-source \n",
    "intelligence to help you make the appropriate decisions on the alerts.\n",
    "\n",
    "One of the most exciting and rewarding things is when you are finished working on an incident and have managed to remediate the threat.\n",
    "Incident Response might take hours, days, or weeks; it all depends on the scale of the attack: did the attacker manage to exfiltrate the \n",
    "data? How much data does the attacker manage to exfiltrate? Did the attacker attempt to pivot into other hosts? There are many questions \n",
    "to ask and a lot of detection, containment, and remediation to do. We will walk you through some fundamental knowledge that every Junior \n",
    "(Associate) Security Analyst needs to know to become a successful Network Defender. \n",
    "\n",
    "The first thing almost every Junior (Associate) Security Analyst does on their shift is to look at the tickets to see if any alerts got generated.\n",
    "\n",
    "Are you ready to immerse yourself into the role of a Junior Security Analyst for a little bit? \n",
    "'''"
   ]
  },
  {
   "cell_type": "code",
   "execution_count": null,
   "id": "76c2bc15-0228-41e7-9efa-d3c2130d7c72",
   "metadata": {},
   "outputs": [],
   "source": []
  }
 ],
 "metadata": {
  "kernelspec": {
   "display_name": "Python 3 (ipykernel)",
   "language": "python",
   "name": "python3"
  },
  "language_info": {
   "codemirror_mode": {
    "name": "ipython",
    "version": 3
   },
   "file_extension": ".py",
   "mimetype": "text/x-python",
   "name": "python",
   "nbconvert_exporter": "python",
   "pygments_lexer": "ipython3",
   "version": "3.11.7"
  }
 },
 "nbformat": 4,
 "nbformat_minor": 5
}
