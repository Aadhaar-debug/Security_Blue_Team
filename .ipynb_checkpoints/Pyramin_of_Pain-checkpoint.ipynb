{
 "cells": [
  {
   "cell_type": "code",
   "execution_count": 1,
   "id": "eb766a2e-bd03-415d-8aa1-42bd7034e5df",
   "metadata": {},
   "outputs": [
    {
     "data": {
      "text/plain": [
       "'\\nThis well-renowned concept is being applied to cybersecurity solutions like Cisco Security, SentinelOne, and SOCRadar to improve the effectiveness of CTI (Cyber Threat Intelligence), threat hunting, and incident response exercises.\\n\\nUnderstanding the Pyramid of Pain concept as a Threat Hunter, Incident Responder, or SOC Analyst is important.\\n\\nAre you ready to explore what hides inside the Pyramid of Pain? \\n'"
      ]
     },
     "execution_count": 1,
     "metadata": {},
     "output_type": "execute_result"
    }
   ],
   "source": [
    "'''\n",
    "This well-renowned concept is being applied to cybersecurity solutions like Cisco Security, SentinelOne, and SOCRadar to improve the effectiveness of CTI (Cyber Threat Intelligence), threat hunting, and incident response exercises.\n",
    "\n",
    "Understanding the Pyramid of Pain concept as a Threat Hunter, Incident Responder, or SOC Analyst is important.\n",
    "\n",
    "Are you ready to explore what hides inside the Pyramid of Pain? \n",
    "'''"
   ]
  },
  {
   "cell_type": "code",
   "execution_count": 2,
   "id": "6c1eb958-51e2-4fc2-a898-eba850f5409b",
   "metadata": {},
   "outputs": [
    {
     "data": {
      "text/plain": [
       "'\\nAs per Microsoft, the hash value is a numeric value of a fixed length that uniquely identifies data. A hash value is the result of a hashing algorithm. The following are some of the most common hashing algorithms: \\n\\nMD5 (Message Digest, defined by RFC 1321) - was designed by Ron Rivest in 1992 and is a widely used cryptographic hash function with a 128-bit hash value. MD5 hashes are NOT considered cryptographically secure. In 2011, the IETF published RFC 6151, \"Updated Security Considerations for the MD5 Message-Digest and the HMAC-MD5 Algorithms,\" which mentioned a number of attacks against MD5 hashes, including the hash collision.\\nSHA-1 (Secure Hash Algorithm 1, defined by RFC 3174) - was invented by United States National Security Agency in 1995. When data is fed to SHA-1 Hashing Algorithm, SHA-1 takes an input and produces a 160-bit hash value string as a 40 digit hexadecimal number. NIST deprecated the use of SHA-1 in 2011 and banned its use for digital signatures at the end of 2013 based on it being susceptible to brute-force attacks. Instead, NIST recommends migrating from SHA-1 to stronger hash algorithms in the SHA-2 and SHA-3 families.\\nThe SHA-2 (Secure Hash Algorithm 2) - SHA-2 Hashing Algorithm was designed by The National Institute of Standards and Technology (NIST) and the National Security Agency (NSA) in 2001 to replace SHA-1. SHA-2 has many variants, and arguably the most common is SHA-256. The SHA-256 algorithm returns a hash value of 256-bits as a 64 digit hexadecimal number.\\nA hash is not considered to be cryptographically secure if two files have the same hash value or digest.\\n\\nSecurity professionals usually use the hash values to gain insight into a specific malware sample, a malicious or a suspicious file, and as a way to uniquely identify and reference the malicious artifact.\\n\\nYou\\'ve probably read ransomware reports in the past, where security researchers would provide the hashes related to the malicious or suspicious files used at the end of the report. You can check out The DFIR Report and FireEye Threat Research Blogs if you’re interested in seeing an example.\\n\\nVarious online tools can be used to do hash lookups like VirusTotal and Metadefender Cloud - OPSWAT.\\n'"
      ]
     },
     "execution_count": 2,
     "metadata": {},
     "output_type": "execute_result"
    }
   ],
   "source": [
    "'''\n",
    "As per Microsoft, the hash value is a numeric value of a fixed length that uniquely identifies data. A hash value is the result of a hashing algorithm. The following are some of the most common hashing algorithms: \n",
    "\n",
    "MD5 (Message Digest, defined by RFC 1321) - was designed by Ron Rivest in 1992 and is a widely used cryptographic hash function with a 128-bit hash value. MD5 hashes are NOT considered cryptographically secure. In 2011, the IETF published RFC 6151, \"Updated Security Considerations for the MD5 Message-Digest and the HMAC-MD5 Algorithms,\" which mentioned a number of attacks against MD5 hashes, including the hash collision.\n",
    "SHA-1 (Secure Hash Algorithm 1, defined by RFC 3174) - was invented by United States National Security Agency in 1995. When data is fed to SHA-1 Hashing Algorithm, SHA-1 takes an input and produces a 160-bit hash value string as a 40 digit hexadecimal number. NIST deprecated the use of SHA-1 in 2011 and banned its use for digital signatures at the end of 2013 based on it being susceptible to brute-force attacks. Instead, NIST recommends migrating from SHA-1 to stronger hash algorithms in the SHA-2 and SHA-3 families.\n",
    "The SHA-2 (Secure Hash Algorithm 2) - SHA-2 Hashing Algorithm was designed by The National Institute of Standards and Technology (NIST) and the National Security Agency (NSA) in 2001 to replace SHA-1. SHA-2 has many variants, and arguably the most common is SHA-256. The SHA-256 algorithm returns a hash value of 256-bits as a 64 digit hexadecimal number.\n",
    "A hash is not considered to be cryptographically secure if two files have the same hash value or digest.\n",
    "\n",
    "Security professionals usually use the hash values to gain insight into a specific malware sample, a malicious or a suspicious file, and as a way to uniquely identify and reference the malicious artifact.\n",
    "\n",
    "You've probably read ransomware reports in the past, where security researchers would provide the hashes related to the malicious or suspicious files used at the end of the report. You can check out The DFIR Report and FireEye Threat Research Blogs if you’re interested in seeing an example.\n",
    "\n",
    "Various online tools can be used to do hash lookups like VirusTotal and Metadefender Cloud - OPSWAT.\n",
    "'''"
   ]
  },
  {
   "cell_type": "code",
   "execution_count": 3,
   "id": "ea7c04f2-fa9c-4c69-92c8-7ba383f11255",
   "metadata": {},
   "outputs": [
    {
     "data": {
      "text/plain": [
       "'\\nAs you might have noticed, it is really easy to spot a malicious file if we have the hash in our arsenal.  However, as an attacker, modifying a file by even a single bit is trivial, which would produce a different hash value. With so many variations and instances of known malware or ransomware, threat hunting using file hashes as the IOC (Indicators of Compromise) can become difficult.\\n\\nLet’s take a look at an example of how you can change the hash value of a file by simply appending a string to the end of a file using echo: File Hash (Before Modification)\\n'"
      ]
     },
     "execution_count": 3,
     "metadata": {},
     "output_type": "execute_result"
    }
   ],
   "source": [
    "'''\n",
    "As you might have noticed, it is really easy to spot a malicious file if we have the hash in our arsenal.  However, as an attacker, modifying a file by even a single bit is trivial, which would produce a different hash value. With so many variations and instances of known malware or ransomware, threat hunting using file hashes as the IOC (Indicators of Compromise) can become difficult.\n",
    "\n",
    "Let’s take a look at an example of how you can change the hash value of a file by simply appending a string to the end of a file using echo: File Hash (Before Modification)\n",
    "'''"
   ]
  },
  {
   "cell_type": "code",
   "execution_count": 4,
   "id": "f63c526f-35c2-4c6c-8b7f-be5f8b0f2ff2",
   "metadata": {},
   "outputs": [
    {
     "data": {
      "text/plain": [
       "'\\nYou may have learned the importance of an IP Address from the \"What is Networking?\" Room. the importance of the IP Address. An IP address is used to identify any device connected to a network. These devices range from desktops, to servers and even CCTV cameras! We rely on IP addresses to send and receive the information over the network. But we are not going to get into the structure and functionality of the IP address. As a part of the Pyramid of Pain, we’ll evaluate how IP addresses are used as an indicator.\\n\\nIn the Pyramid of Pain, IP addresses are indicated with the color green. You might be asking why and what you can associate the green colour with?\\n\\nFrom a defense standpoint, knowledge of the IP addresses an adversary uses can be valuable. A common defense tactic is to block, drop, or deny inbound requests from IP addresses on your parameter or external firewall. This tactic is often not bulletproof as it’s trivial for an experienced adversary to recover simply by using a new public IP address.\\n\\nMalicious IP connections (app.any.run):\\n\\n\\n\\nNOTE! Do not attempt to interact with the IP addresses shown above.\\n\\nOne of the ways an adversary can make it challenging to successfully carry out IP blocking is by using Fast Flux.\\n\\nAccording to Akamai, Fast Flux is a DNS technique used by botnets to hide phishing, web proxying, malware delivery, and malware communication activities behind compromised hosts acting as proxies. The purpose of using the Fast Flux network is to make the communication between malware and its command and control server (C&C) challenging to be discovered by security professionals. \\n\\nSo, the primary concept of a Fast Flux network is having multiple IP addresses associated with a domain name, which is constantly changing. Palo Alto created a great fictional scenario to explain Fast Flux: \"Fast Flux 101: How Cybercriminals Improve the Resilience of Their Infrastructure to Evade Detection and Law Enforcement Takedowns\"\\n\\nRead the following report (generated from any.run) for this sample here to answer the questions below:\\n'"
      ]
     },
     "execution_count": 4,
     "metadata": {},
     "output_type": "execute_result"
    }
   ],
   "source": [
    "'''\n",
    "You may have learned the importance of an IP Address from the \"What is Networking?\" Room. the importance of the IP Address. An IP address is used to identify any device connected to a network. These devices range from desktops, to servers and even CCTV cameras! We rely on IP addresses to send and receive the information over the network. But we are not going to get into the structure and functionality of the IP address. As a part of the Pyramid of Pain, we’ll evaluate how IP addresses are used as an indicator.\n",
    "\n",
    "In the Pyramid of Pain, IP addresses are indicated with the color green. You might be asking why and what you can associate the green colour with?\n",
    "\n",
    "From a defense standpoint, knowledge of the IP addresses an adversary uses can be valuable. A common defense tactic is to block, drop, or deny inbound requests from IP addresses on your parameter or external firewall. This tactic is often not bulletproof as it’s trivial for an experienced adversary to recover simply by using a new public IP address.\n",
    "\n",
    "Malicious IP connections (app.any.run):\n",
    "\n",
    "\n",
    "\n",
    "NOTE! Do not attempt to interact with the IP addresses shown above.\n",
    "\n",
    "One of the ways an adversary can make it challenging to successfully carry out IP blocking is by using Fast Flux.\n",
    "\n",
    "According to Akamai, Fast Flux is a DNS technique used by botnets to hide phishing, web proxying, malware delivery, and malware communication activities behind compromised hosts acting as proxies. The purpose of using the Fast Flux network is to make the communication between malware and its command and control server (C&C) challenging to be discovered by security professionals. \n",
    "\n",
    "So, the primary concept of a Fast Flux network is having multiple IP addresses associated with a domain name, which is constantly changing. Palo Alto created a great fictional scenario to explain Fast Flux: \"Fast Flux 101: How Cybercriminals Improve the Resilience of Their Infrastructure to Evade Detection and Law Enforcement Takedowns\"\n",
    "\n",
    "Read the following report (generated from any.run) for this sample here to answer the questions below:\n",
    "'''"
   ]
  },
  {
   "cell_type": "code",
   "execution_count": 5,
   "id": "0911ec5a-3721-4481-9504-d7a91bf73163",
   "metadata": {},
   "outputs": [
    {
     "data": {
      "text/plain": [
       "'\\nLet\\'s step up the Pyramid of Pain and move on to Domain Names. You can see the transition of colors - from green to teal.\\n\\nDomain Names can be thought as simply mapping an IP address to a string of text. A domain name can contain a domain and a top-level domain (evilcorp.com) or a sub-domain followed by a domain and top-level domain (tryhackme.evilcorp.com). But we will not go into the details of how the Domain Name System (DNS) works. You can learn more about DNS in this \"DNS in Detail\" Room. \\n\\nDomain Names can be a little more of a pain for the attacker to change as they would most likely need to purchase the domain, register it and modify DNS records. Unfortunately for defenders, many DNS providers have loose standards and provide APIs to make it even easier for the attacker to change the domain.\\n\\nMalicious Sodinokibi C2 (Command and Control Infrastructure) domains:\\n\\n\\n\\n\\n\\n\\n\\nCan you spot anything malicious in the above screenshot? Now, compare it to the legitimate website view below:\\n\\n\\n\\nThis is one of the examples of a Punycode attack used by the attackers to redirect users to a malicious domain that seems legitimate at first glance.\\n\\nWhat is Punycode? As per Wandera, \"Punycode is a way of converting words that cannot be written in ASCII, into a Unicode ASCII encoding.\"\\n\\nWhat you saw in the URL above is adıdas.de which has the Punycode of http://xn--addas-o4a.de/\\n\\nInternet Explorer, Google Chrome, Microsoft Edge, and Apple Safari are now pretty good at translating the obfuscated characters into the full Punycode domain name.\\n\\nTo detect the malicious domains, proxy logs or web server logs can be used.\\n\\nAttackers usually hide the malicious domains under URL Shorteners. A URL Shortener is a tool that creates a short and unique URL that will redirect to the specific website specified during the initial step of setting up the URL Shortener link. According to Cofense, attackers use the following URL Shortening services to generate malicious links: \\n\\nbit.ly\\ngoo.gl\\now.ly\\ns.id\\nsmarturl.it\\ntiny.pl\\ntinyurl.com\\nx.co\\nYou can see the actual website the shortened link is redirecting you to by appending \"+\" to it (see the examples below). Type the shortened URL in the address bar of the web browser and add the above characters to see the redirect URL. \\n\\nNOTE: The examples of the shortened links below are non-existent.\\n\\n\\n\\nViewing Connections in Any.run:\\n\\nBecause Any.run is a sandboxing service that executes the sample, we can review any connections such as HTTP requests, DNS requests or processes communicating with an IP address. To do so, we can look at the \"networking\" tab located just below the snapshot of the machine.\\n\\nPlease note: you should be extremely cautious about visiting any of the IP addresses or HTTP requests made in a report. After all, these are behaviours from the malware sample - so they\\'re probably doing something dangerous!\\n\\nHTTP Requests:\\n\\nThis tab shows the recorded HTTP requests since the detonation of the sample. This can be useful to see what resources are being retrieved from a webserver, such as a dropper or a callback.\\n\\nillustrating the HTTP requests in the anyrun view\\n\\nConnections:\\n\\nThis tab shows any communications made since the detonation of the sample. This can be useful to see if a process communicates with another host. For example, this could be C2 traffic, uploading/downloading files over FTP, etc.\\n\\nillustrating the connections in the anyrun view\\n\\nDNS Requests:\\n\\nThis tab shows the DNS requests made since the detonation of the sample. Malware often makes DNS requests to check for internet connectivity (I.e. if It can\\'t reach the internet/call home, then it\\'s probably being sandboxed or is useless). \\n'"
      ]
     },
     "execution_count": 5,
     "metadata": {},
     "output_type": "execute_result"
    }
   ],
   "source": [
    "'''\n",
    "Let's step up the Pyramid of Pain and move on to Domain Names. You can see the transition of colors - from green to teal.\n",
    "\n",
    "Domain Names can be thought as simply mapping an IP address to a string of text. A domain name can contain a domain and a top-level domain (evilcorp.com) or a sub-domain followed by a domain and top-level domain (tryhackme.evilcorp.com). But we will not go into the details of how the Domain Name System (DNS) works. You can learn more about DNS in this \"DNS in Detail\" Room. \n",
    "\n",
    "Domain Names can be a little more of a pain for the attacker to change as they would most likely need to purchase the domain, register it and modify DNS records. Unfortunately for defenders, many DNS providers have loose standards and provide APIs to make it even easier for the attacker to change the domain.\n",
    "\n",
    "Malicious Sodinokibi C2 (Command and Control Infrastructure) domains:\n",
    "\n",
    "\n",
    "\n",
    "\n",
    "\n",
    "\n",
    "\n",
    "Can you spot anything malicious in the above screenshot? Now, compare it to the legitimate website view below:\n",
    "\n",
    "\n",
    "\n",
    "This is one of the examples of a Punycode attack used by the attackers to redirect users to a malicious domain that seems legitimate at first glance.\n",
    "\n",
    "What is Punycode? As per Wandera, \"Punycode is a way of converting words that cannot be written in ASCII, into a Unicode ASCII encoding.\"\n",
    "\n",
    "What you saw in the URL above is adıdas.de which has the Punycode of http://xn--addas-o4a.de/\n",
    "\n",
    "Internet Explorer, Google Chrome, Microsoft Edge, and Apple Safari are now pretty good at translating the obfuscated characters into the full Punycode domain name.\n",
    "\n",
    "To detect the malicious domains, proxy logs or web server logs can be used.\n",
    "\n",
    "Attackers usually hide the malicious domains under URL Shorteners. A URL Shortener is a tool that creates a short and unique URL that will redirect to the specific website specified during the initial step of setting up the URL Shortener link. According to Cofense, attackers use the following URL Shortening services to generate malicious links: \n",
    "\n",
    "bit.ly\n",
    "goo.gl\n",
    "ow.ly\n",
    "s.id\n",
    "smarturl.it\n",
    "tiny.pl\n",
    "tinyurl.com\n",
    "x.co\n",
    "You can see the actual website the shortened link is redirecting you to by appending \"+\" to it (see the examples below). Type the shortened URL in the address bar of the web browser and add the above characters to see the redirect URL. \n",
    "\n",
    "NOTE: The examples of the shortened links below are non-existent.\n",
    "\n",
    "\n",
    "\n",
    "Viewing Connections in Any.run:\n",
    "\n",
    "Because Any.run is a sandboxing service that executes the sample, we can review any connections such as HTTP requests, DNS requests or processes communicating with an IP address. To do so, we can look at the \"networking\" tab located just below the snapshot of the machine.\n",
    "\n",
    "Please note: you should be extremely cautious about visiting any of the IP addresses or HTTP requests made in a report. After all, these are behaviours from the malware sample - so they're probably doing something dangerous!\n",
    "\n",
    "HTTP Requests:\n",
    "\n",
    "This tab shows the recorded HTTP requests since the detonation of the sample. This can be useful to see what resources are being retrieved from a webserver, such as a dropper or a callback.\n",
    "\n",
    "illustrating the HTTP requests in the anyrun view\n",
    "\n",
    "Connections:\n",
    "\n",
    "This tab shows any communications made since the detonation of the sample. This can be useful to see if a process communicates with another host. For example, this could be C2 traffic, uploading/downloading files over FTP, etc.\n",
    "\n",
    "illustrating the connections in the anyrun view\n",
    "\n",
    "DNS Requests:\n",
    "\n",
    "This tab shows the DNS requests made since the detonation of the sample. Malware often makes DNS requests to check for internet connectivity (I.e. if It can't reach the internet/call home, then it's probably being sandboxed or is useless). \n",
    "'''"
   ]
  },
  {
   "cell_type": "code",
   "execution_count": 6,
   "id": "a961db59-70cd-4dfe-a281-1de854b3ae27",
   "metadata": {},
   "outputs": [
    {
     "data": {
      "text/plain": [
       "\"\\nLet's take another step up to the yellow zone.\\n\\nOn this level, the attacker will feel a little more annoyed and frustrated if you can detect the attack. The attacker would need to circle back at this detection level and change his attack tools and methodologies. This is very time-consuming for the attacker, and probably, he will need to spend more resources on his adversary tools.\\n\\nHost artifacts are the traces or observables that attackers leave on the system, such as registry values, suspicious process execution, attack patterns or IOCs (Indicators of Compromise), files dropped by malicious applications, or anything exclusive to the current threat.\\n\\nSuspicious process execution from Word: \\n\""
      ]
     },
     "execution_count": 6,
     "metadata": {},
     "output_type": "execute_result"
    }
   ],
   "source": [
    "'''\n",
    "Let's take another step up to the yellow zone.\n",
    "\n",
    "On this level, the attacker will feel a little more annoyed and frustrated if you can detect the attack. The attacker would need to circle back at this detection level and change his attack tools and methodologies. This is very time-consuming for the attacker, and probably, he will need to spend more resources on his adversary tools.\n",
    "\n",
    "Host artifacts are the traces or observables that attackers leave on the system, such as registry values, suspicious process execution, attack patterns or IOCs (Indicators of Compromise), files dropped by malicious applications, or anything exclusive to the current threat.\n",
    "\n",
    "Suspicious process execution from Word: \n",
    "'''"
   ]
  },
  {
   "cell_type": "code",
   "execution_count": null,
   "id": "34e0c5c8-d53f-4448-ace2-8c96fd749bfb",
   "metadata": {},
   "outputs": [],
   "source": []
  }
 ],
 "metadata": {
  "kernelspec": {
   "display_name": "Python 3 (ipykernel)",
   "language": "python",
   "name": "python3"
  },
  "language_info": {
   "codemirror_mode": {
    "name": "ipython",
    "version": 3
   },
   "file_extension": ".py",
   "mimetype": "text/x-python",
   "name": "python",
   "nbconvert_exporter": "python",
   "pygments_lexer": "ipython3",
   "version": "3.11.7"
  }
 },
 "nbformat": 4,
 "nbformat_minor": 5
}
