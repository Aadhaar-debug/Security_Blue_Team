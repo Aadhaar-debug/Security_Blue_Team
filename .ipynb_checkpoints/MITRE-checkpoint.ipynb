{
 "cells": [
  {
   "cell_type": "markdown",
   "id": "ae760446-30e0-4cf1-b68e-fcd1e805c7ba",
   "metadata": {},
   "source": [
    "# INTRODUCTION TO MITRE"
   ]
  },
  {
   "cell_type": "markdown",
   "id": "23021cc8-a334-4d45-9571-c4fc3984cce7",
   "metadata": {},
   "source": [
    "\n",
    "# MITRE, we solve problems for a safer world. Through our federally funded R&D centers and public-private partnerships, we work across government to tackle challenges to the safety, stability, and well-being of our nation.\"\n",
    "\n",
    "## In this room, we will focus on other projects/research that the US-based non-profit MITRE Corporation has created for the cybersecurity community, specifically:\n",
    "\n",
    "## ATT&CK® (Adversarial Tactics, Techniques, and Common Knowledge) Framework\n",
    "## CAR (Cyber Analytics Repository) Knowledge Base\n",
    "## ENGAGE (sorry, not a fancy acronym)\n",
    "## D3FEND (Detection, Denial, and Disruption Framework Empowering Network Defense)\n",
    "## AEP (ATT&CK Emulation Plans)\n",
    "'''"
   ]
  },
  {
   "cell_type": "code",
   "execution_count": null,
   "id": "1d9a8981-8790-43cf-b214-f1be089e92b6",
   "metadata": {},
   "outputs": [],
   "source": []
  }
 ],
 "metadata": {
  "kernelspec": {
   "display_name": "Python 3 (ipykernel)",
   "language": "python",
   "name": "python3"
  },
  "language_info": {
   "codemirror_mode": {
    "name": "ipython",
    "version": 3
   },
   "file_extension": ".py",
   "mimetype": "text/x-python",
   "name": "python",
   "nbconvert_exporter": "python",
   "pygments_lexer": "ipython3",
   "version": "3.11.7"
  }
 },
 "nbformat": 4,
 "nbformat_minor": 5
}
