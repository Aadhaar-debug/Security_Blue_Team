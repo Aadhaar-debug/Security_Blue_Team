{
 "cells": [
  {
   "cell_type": "markdown",
   "id": "c66294b9-75d0-4a48-9c4e-f21a833140f4",
   "metadata": {},
   "source": [
    "# Setting up Metasploitable 2"
   ]
  },
  {
   "cell_type": "markdown",
   "id": "2fb4cdb4-f75b-4f8b-8307-ca696992579b",
   "metadata": {},
   "source": [
    "This section will explain what Metasploitable 2 is, why it’s great fun to mess around with, and how to set it up on your own system! MS2 is compatible with VMWare, VirtualBox, and other common virtualization platforms."
   ]
  },
  {
   "cell_type": "markdown",
   "id": "9b488304-bca5-410e-9e02-517806c360c9",
   "metadata": {},
   "source": [
    "# What is Metasploitable?"
   ]
  },
  {
   "cell_type": "markdown",
   "id": "24a42fda-70d1-412f-8d39-52201d250fbd",
   "metadata": {},
   "source": [
    "Metasploitable 2 is an intentionally vulnerable virtual machine created by security company Rapid7. It is designed to be a test environment and playground for ethical hackers. There are tons of security flaws and ways to exploit the system in order to gain remote access, and conduct further activities whilst you’re inside.\r\n",
    "\r\n",
    "This system is NOT designed to be realistic, and is intentionally weak by running a number of services that have known flaws, bypasses, and exploits. It is great to use if you’re learning penetration testing or vulnerability scanning, as it gives you a safe local environment that you’re legally allowed to scan and hack. If something goes wrong and the system dies, you can just reboot the VM and start hitting it again.\r\n",
    "\r\n"
   ]
  },
  {
   "cell_type": "markdown",
   "id": "c73844f2-8681-4648-b0f5-ab45e71270bc",
   "metadata": {},
   "source": [
    "# Metasploitable Setup Guide"
   ]
  },
  {
   "cell_type": "markdown",
   "id": "ade57d6a-b3c6-40a2-8e55-9be4d020ccc4",
   "metadata": {},
   "source": [
    "- Firstly, boot up your Kali virtual machine, and grab the download from Rapid7’s SourceForge link https://sourceforge.net/projects/metasploitable/ (You can also download it directly from their site, but it requires you to register with a work contact number and a work email address).\r\n",
    "- \r\n",
    "Once you have the .zip file, you’ll need to manually create a new virtual machine profile (in this example we’re using VirtualBox, available at https://www.virtualbox.org/wiki/Downloads). Click the NEW button on the top ribbon, and set the settings to the same as the below screenshot."
   ]
  },
  {
   "cell_type": "markdown",
   "id": "c8f4ca1e-5bbe-43cf-8840-406acabac8bf",
   "metadata": {},
   "source": [
    "- To actually import Metasploitable 2, when asked for a hard disk, select the “Use an existing virtual hard disk file” and find the Metasploitable.vmdk file, that is inside the .zip file you downloaded earlier."
   ]
  },
  {
   "cell_type": "markdown",
   "id": "6cfcd173-b660-4646-b44b-6095034c8a54",
   "metadata": {},
   "source": [
    "- Now you should be able to run the virtual machine, and it’ll boot up correctly. When ready, it’ll prompt you for a username and password. By default, they are both set to \"msfadmin\"."
   ]
  },
  {
   "cell_type": "markdown",
   "id": "b3700c41-d473-4981-8ade-1b04dba2e52c",
   "metadata": {},
   "source": [
    "- Now we need to do some quick network changes, as by default VirtualBox is hard-coded to use its own DHCP to assign a default IP address (usually 10.0.2.15) and put each of your VMs on completely isolated networks using virtual Network Interface Cards (NICs). This is a problem, because it means they won’t be able to communicate with each other, so we can’t scan Metasploitable 2 from our Kali machine.\r\n",
    "\r\n",
    "Let’s close any open VMs we have, and go to the VirtualBox panel. Click on File -> Preferences -> Network, on the NAT Networks tab click the ‘+‘ icon to add a new network called “NatNetwork” by default.\r\n",
    "\r\n"
   ]
  },
  {
   "cell_type": "markdown",
   "id": "a096b7f0-c3ad-4f2a-809b-54775e708e81",
   "metadata": {},
   "source": [
    "- Now right-click both your MS2 and Kali VMs in the left VirtualBox pane, and go to Settings -> Network -> Attached to: NAT Network -> Name: NatNetwork.\r\n",
    "\r\n",
    "Launch your Metasploitable 2 VM, login, and use the command ifconfig to find your ‘inet addr’ value, which is the IP of the system. From the screenshot below, we can see that our IP has been assigned as 10.0.2.4."
   ]
  },
  {
   "cell_type": "markdown",
   "id": "d5ca1226-4841-4700-9e2d-d46e221a79ff",
   "metadata": {},
   "source": [
    "- To make sure everything’s working fine, we’ll go into our Kali VM (make sure to leave the Metasploitable VM running!) and try to ping the address 10.0.2.4"
   ]
  },
  {
   "cell_type": "markdown",
   "id": "239e1a0a-b51a-4776-a7fd-1f255340841a",
   "metadata": {},
   "source": [
    "- We can see that our Kali machine can contact the Metasploitable system, so we can begin our vulnerability scanning!"
   ]
  },
  {
   "cell_type": "markdown",
   "id": "eb44cdc9-741d-4487-83ce-a340800f84f6",
   "metadata": {},
   "source": [
    "# Metasploitable 2 Activity and Quiz"
   ]
  },
  {
   "cell_type": "markdown",
   "id": "4a62485c-eb35-4ed9-93b1-5a5fe48ec510",
   "metadata": {},
   "source": [
    "To help get you familiar with Metasploitable, we have created a short quiz consisting of 6 questions. For this activity, you’ll need to have your MS2 virtual machine running, and a Kali Linux virtual machine which you’ll use for scanning. You need to answer the below questions, so conduct your scans and gather the answers ready for submission in the quiz.\r\n",
    "\r\n",
    "Before scanning, make sure your Nmap version is 7.80 otherwise, your results won’t be the same as the answer to the question. If you would like to know your Nmap version, type nmap –version. Kali Linux version 2020.3 and below will work."
   ]
  },
  {
   "cell_type": "markdown",
   "id": "bcdae7a7-3aed-402a-9fb5-6e691e8b9bb4",
   "metadata": {},
   "source": [
    "- Which company created Metasploit and Metasploitable 2?\r",
    "- m\n",
    "How many TCP ports are OPEN on MS2? (Use the -sT flag in Nmap).map)."
   ]
  },
  {
   "cell_type": "markdown",
   "id": "87ca6865-c3ac-4e91-ade8-62bbb17c4be0",
   "metadata": {},
   "source": [
    "- How many UDP ports are OPEN on MS2? (Use the -sU flag in Nmap – this may take a while).\n",
    "- What port is running a Metasploitable Root Shell? (Use the -sV flag in Nmap).\n",
    "- What non-standard port is FTP running on? (NOT p21) (Use the -sT flag in Nmap)\n",
    "- What version of FTP is running on the non-standard port? (Use the -sV flag in Nmap)."
   ]
  },
  {
   "cell_type": "markdown",
   "id": "45e853f6-2887-4933-83c1-a357cb476cea",
   "metadata": {},
   "source": [
    "# OpenVAS"
   ]
  },
  {
   "cell_type": "markdown",
   "id": "7d073635-2de0-4d30-9f61-72043e7be447",
   "metadata": {},
   "source": [
    "# NEssus"
   ]
  },
  {
   "cell_type": "markdown",
   "id": "2fe054a9-1e29-4270-b3e9-ac034afee28a",
   "metadata": {},
   "source": [
    "# WpSCAN"
   ]
  },
  {
   "cell_type": "markdown",
   "id": "41eb7187-2917-4515-8f83-9e70e776a9d4",
   "metadata": {},
   "source": []
  }
 ],
 "metadata": {
  "kernelspec": {
   "display_name": "Python 3 (ipykernel)",
   "language": "python",
   "name": "python3"
  },
  "language_info": {
   "codemirror_mode": {
    "name": "ipython",
    "version": 3
   },
   "file_extension": ".py",
   "mimetype": "text/x-python",
   "name": "python",
   "nbconvert_exporter": "python",
   "pygments_lexer": "ipython3",
   "version": "3.11.7"
  }
 },
 "nbformat": 4,
 "nbformat_minor": 5
}
